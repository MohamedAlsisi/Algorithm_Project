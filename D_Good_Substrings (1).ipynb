{
 "cells": [
  {
   "cell_type": "markdown",
   "id": "ab2d0c3c",
   "metadata": {
    "id": "ab2d0c3c"
   },
   "source": [
    "## Problem\n",
    "* D. Good Substrings #166\n",
    "* site: https://codeforces.com/problemset/problem/271/D\n",
    "* submission1(Accept): https://codeforces.com/contest/271/submission/142037824\n",
    "* submission2: https://codeforces.com/contest/271/submission/142037707\n",
    "* submission3: https://codeforces.com/contest/271/submission/142037824"
   ]
  },
  {
   "cell_type": "markdown",
   "id": "29d4e0a0",
   "metadata": {
    "id": "29d4e0a0"
   },
   "source": [
    "## Algorithms\n",
    "* Brute Force\n",
    "* Prefix Tree"
   ]
  },
  {
   "cell_type": "markdown",
   "id": "41fed09e",
   "metadata": {
    "id": "41fed09e"
   },
   "source": [
    "## Brute Force"
   ]
  },
  {
   "cell_type": "code",
   "execution_count": null,
   "id": "2dea9262",
   "metadata": {
    "id": "2dea9262"
   },
   "outputs": [],
   "source": [
    "#https://codeforces.com/contest/271/submission/142041712\n",
    "def Brute_Force(s, isGood, k):    \n",
    "    ordered_dict = {'a':0,'b':1,'c':2,'d':3,'e':4,'f':5,'g':6,'h':7,'i':8,'j':9,'k':10,'l':11,'m':12,'n':13,'o':14,'p':15,'q':16,'r':17,'s':18,'t':19,'u':20,'v':21,'w':22,'x':23,'y':24,'z':25}\n",
    "    #ans = 0\n",
    "    se = set()\n",
    "    #print(isGood)\n",
    "    n = len(s)\n",
    "\n",
    "    def num_of_bads(st):\n",
    "        num_b = 0\n",
    "        for i in range(len(st)):\n",
    "            num_b += int(isGood[ordered_dict[st[i]]] == '0')\n",
    "            #print(int(isGood[ordered_dict[st[i]]] == '0'))\n",
    "        return num_b\n",
    "\n",
    "    for i in range(n):\n",
    "        for j in range(i,n):\n",
    "            #print(num_of_bads(s[i:j+1]))\n",
    "            #print(s[i:j+1])\n",
    "            if num_of_bads(s[i:j+1]) <= k:\n",
    "                se.add(s[i:j+1])\n",
    "    #print(se)\n",
    "    print(len(se))"
   ]
  },
  {
   "cell_type": "markdown",
   "id": "3fda345e",
   "metadata": {
    "id": "3fda345e"
   },
   "source": [
    "## Prefix Tree (Trie)"
   ]
  },
  {
   "cell_type": "code",
   "execution_count": null,
   "id": "de2030aa",
   "metadata": {
    "id": "de2030aa"
   },
   "outputs": [],
   "source": [
    "# https://codeforces.com/contest/271/submission/142037707\n",
    "\n",
    "k = 0\n",
    "n = 0\n",
    "ans = 0\n",
    "s = ''\n",
    "isGood = ''\n",
    "ordered_dict = {'a':0,'b':1,'c':2,'d':3,'e':4,'f':5,'g':6,'h':7,'i':8,'j':9,'k':10,'l':11,'m':12,'n':13,'o':14,'p':15,'q':16,'r':17,'s':18,'t':19,'u':20,'v':21,'w':22,'x':23,'y':24,'z':25}\n",
    "\n",
    "class Trie:\n",
    "    def create(self):\n",
    "        nd = self.node()\n",
    "        nd.leaf = 1\n",
    "        nd.bads = 0\n",
    "        return nd\n",
    "    \n",
    "    class node:\n",
    "        def __init__(self):\n",
    "            bads = 0\n",
    "            leaf = 0\n",
    "            self.children = [None]*26\n",
    "        \n",
    "    def __init__(self):\n",
    "        self.ans = 0\n",
    "        self.root = self.create()\n",
    "        \n",
    "    \n",
    "    def add(self,s, isGood, k):\n",
    "        nd = self.root\n",
    "        for i in range(0, len(s)):\n",
    "            if nd.children[ordered_dict[s[i]]] == None:\n",
    "                nd.leaf = 0\n",
    "                nd.children[ordered_dict[s[i]]] = self.create()\n",
    "                nd.children[ordered_dict[s[i]]].bads = nd.bads + int((isGood[ordered_dict[s[i]]] == '0'))\n",
    "                if nd.children[ordered_dict[s[i]]].bads <= k:\n",
    "                    self.ans += 1\n",
    "            nd = nd.children[ordered_dict[s[i]]]\n",
    "            \n",
    "def Prefix_Tree(s, isGood, k):\n",
    "    n = len(s)\n",
    "    #print(n)\n",
    "    trie = Trie()\n",
    "    for i in range(n):\n",
    "        #print(1)\n",
    "        trie.add(s[i:], isGood, k)\n",
    "    print(trie.ans)\n",
    "    "
   ]
  },
  {
   "cell_type": "markdown",
   "id": "f92f0451",
   "metadata": {
    "id": "f92f0451"
   },
   "source": [
    "## testing both algorithms"
   ]
  },
  {
   "cell_type": "code",
   "execution_count": null,
   "id": "8e47e99f",
   "metadata": {
    "id": "8e47e99f",
    "outputId": "53d55d2d-bccb-4aaf-a1bf-3afcddfa88a7",
    "scrolled": true
   },
   "outputs": [
    {
     "name": "stdout",
     "output_type": "stream",
     "text": [
      "5\n"
     ]
    }
   ],
   "source": [
    "Prefix_Tree(\"ababab\", \"01000000000000000000000000\", 1)"
   ]
  },
  {
   "cell_type": "code",
   "execution_count": null,
   "id": "83747d3b",
   "metadata": {
    "id": "83747d3b",
    "outputId": "abe77f9c-8113-4d8d-a26c-4d71fde7f48c"
   },
   "outputs": [
    {
     "name": "stdout",
     "output_type": "stream",
     "text": [
      "5\n"
     ]
    }
   ],
   "source": [
    "Brute_Force(\"ababab\", \"01000000000000000000000000\", 1)"
   ]
  },
  {
   "cell_type": "markdown",
   "id": "8f639d92",
   "metadata": {
    "id": "8f639d92"
   },
   "source": [
    "## Test Cases From CodeForces"
   ]
  },
  {
   "cell_type": "code",
   "execution_count": null,
   "id": "d20b3e4e",
   "metadata": {
    "id": "d20b3e4e"
   },
   "outputs": [],
   "source": [
    "test_cases_s = [\"ababab\", \n",
    "                \"acbacbacaa\", \n",
    "                \"a\", \n",
    "                \"aaaa\", \n",
    "                \"aaaaaa\",\n",
    "                \"bbbbbbbbba\",\n",
    "                \"bbbbbbbbba\",\n",
    "                \"kqdwdulmgvugvbl\",\n",
    "                \"acehqnrtuwaealwbqufdmizce\",\n",
    "                \"yqahbyyoxltryqdmvenemaqnbakglgqolxnaifnqtoclnnqiab\", #\n",
    "                \"dykhvzcntljuuoqghptioetqnfllwekzohiuaxelgecabvsbibgqodqxvyfkbyjwtgbyhvssntinkwsinwsmalusiwnjmtcoovfj\",\n",
    "                \"dcijflpluxgeqlroaktzcujfaaidnrdzgogzhobhsmbwmjpschtvjmivfapddsmxfvlhhgguymgtdjxpiezbnlmnlvdnuaohqskdbcjlyfdrzicflveffvpeyzhwqqdaenbsghuvetpxvqcutjxbelbfzuqpwlfvveebnmkoryxgodpccanzwhziiiumgtwskxhrhwdkwmyreefwmoedcvaokvetcgundyiidsqkolpqkarpszrrmagrfvpnwharotashtwcnrcnhapdwrbltgkpkkmlrpapfizonyttrikh\",\n",
    "                \"baababbbaa\",\n",
    "                \"aaaabaababbbbbbbbbaaabaaabbbababbbbbbabbaaabaabaabaaabaaaabbababbaaaaaaababbaababbabbaabbbabaabbbbababaaabbabbbabaaabbbabbbbbbbbabababaaaaaabaababbbbbaaaaaaaaaaaaaaababbbbabbbbbbababaabbabbbaababaabaaaabbababaaaabaaaaaaabaabaababbbbbbaababbabbaaaababbabbaaaabaaaaaaababbbbabbbbabaaabababaaaabaaaababb\",\n",
    "                \"dykhvzcntljuuoqghptioetqnfllwekzohiuaxelgecabvsbibgqodqxvyfkbyjwtgbyhvssntinkwsinwsmalusiwnjmtcoovfj\",\n",
    "                \"twnwdluhxf\",\n",
    "                \"aaaaaaaaaa\",\n",
    "                \"eoyirpkwgpvvwzaaaaaaaaaaaaaa\",\n",
    "                \"fwnpwwuzszuryaaaaaaaaaaaaa\",\n",
    "                \"xnahfslefuigqaaaaaaaaaaaaa\"\n",
    "                \n",
    "               ]\n",
    "test_cases_iGood = [\"01000000000000000000000000\", \n",
    "                    \"00000000000000000000000000\", \n",
    "                    \"00000000000000000000000000\", \n",
    "                    \"00000000000000000000000000\", \n",
    "                    \"11110100011011000000100000\",\n",
    "                    \"00000000000000000000000000\",\n",
    "                    \"01000000000000000000000000\",\n",
    "                    \"10000000000000000000000000\",\n",
    "                    \"00101010100100100101101110\",\n",
    "                    \"10000110100000010011101101\",\n",
    "                    \"11000001000110100111100001\", #\n",
    "                    \"10001111101011111101101001\", #\n",
    "                    \"11011010101101110101010001\", #\n",
    "                    \"01011100110010100100001111\",\n",
    "                    \"11011010101101110101010001\",\n",
    "                    \"11111111111111111111111111\"\n",
    "                    \"00000000000000000000000000\",\n",
    "                    \"01011100110010100100001111\",\n",
    "                    \"11111111111111111111111111\",\n",
    "                    \"11111111111111111111111111\",\n",
    "                    \"11111111111111111111111111\"\n",
    "                   ]\n",
    "test_cases_k = [1, 2, 0, 0, 1, 0, 0,13, 16, 41, 25,54, 7,54, 25,1, 7,1,1, 1]"
   ]
  },
  {
   "cell_type": "code",
   "execution_count": null,
   "id": "7a6d1da6",
   "metadata": {
    "id": "7a6d1da6",
    "outputId": "e3e34388-d9ed-4a83-973a-cfcb0d30d064"
   },
   "outputs": [
    {
     "data": {
      "text/plain": [
       "20"
      ]
     },
     "execution_count": 79,
     "metadata": {},
     "output_type": "execute_result"
    }
   ],
   "source": [
    "len(test_cases_iGood)"
   ]
  },
  {
   "cell_type": "markdown",
   "id": "3716614e",
   "metadata": {
    "id": "3716614e"
   },
   "source": [
    "# EMPIRICAL ANALYSIS"
   ]
  },
  {
   "cell_type": "code",
   "execution_count": null,
   "id": "7fb68e3a",
   "metadata": {
    "id": "7fb68e3a"
   },
   "outputs": [],
   "source": [
    "%matplotlib inline\n",
    "\n",
    "import matplotlib\n",
    "import matplotlib.pyplot as plt\n",
    "import time"
   ]
  },
  {
   "cell_type": "code",
   "execution_count": null,
   "id": "6475147d",
   "metadata": {
    "collapsed": true,
    "id": "6475147d",
    "outputId": "34e8bd27-01e4-4798-fda2-091480dae44c"
   },
   "outputs": [
    {
     "name": "stdout",
     "output_type": "stream",
     "text": [
      "5\n",
      "8\n",
      "0\n",
      "0\n",
      "1\n",
      "0\n",
      "9\n",
      "111\n",
      "316\n",
      "1243\n",
      "3322\n",
      "34941\n",
      "41\n",
      "23423\n",
      "4309\n",
      "54\n",
      "7\n",
      "312\n",
      "269\n",
      "271\n"
     ]
    }
   ],
   "source": [
    "times = []\n",
    "for n in range(20):\n",
    "    start_time = time.time()\n",
    "    Prefix_Tree(test_cases_s[n], test_cases_iGood[n], test_cases_k[n])\n",
    "    # Total time = end - start\n",
    "    execution_time_ns = (time.time() - start_time)*(10**9)\n",
    "    times.append(execution_time_ns)"
   ]
  },
  {
   "cell_type": "code",
   "execution_count": null,
   "id": "3433fa90",
   "metadata": {
    "id": "3433fa90",
    "outputId": "386c34b2-e229-48a9-fda9-a86953870ea7"
   },
   "outputs": [
    {
     "data": {
      "image/png": "[encoded data removed]",
      "text/plain": [
       "<Figure size 1080x720 with 1 Axes>"
      ]
     },
     "metadata": {
      "needs_background": "light"
     },
     "output_type": "display_data"
    }
   ],
   "source": [
    "f,ax = plt.subplots(figsize=(15, 10))\n",
    "ax.plot(range(20),times,label='Prefix Tree')\n",
    "ax.set_xlabel('$n$')\n",
    "ax.set_ylabel('Time: nano seconds')\n",
    "ax.set_title('Complexity of Good Substrings')\n",
    "ax.legend(loc=0);"
   ]
  },
  {
   "cell_type": "code",
   "execution_count": null,
   "id": "14278472",
   "metadata": {
    "collapsed": true,
    "id": "14278472",
    "outputId": "70029bbe-4df9-491d-a1ff-f80dfe6bea77"
   },
   "outputs": [
    {
     "name": "stdout",
     "output_type": "stream",
     "text": [
      "5\n",
      "8\n",
      "0\n",
      "0\n",
      "1\n",
      "0\n",
      "9\n",
      "111\n",
      "316\n",
      "1243\n",
      "3322\n",
      "34941\n",
      "41\n",
      "23423\n",
      "4309\n",
      "54\n",
      "7\n",
      "312\n",
      "269\n",
      "271\n"
     ]
    }
   ],
   "source": [
    "times2 = []\n",
    "for n in range(20):\n",
    "    start_time = time.time()\n",
    "    Brute_Force(test_cases_s[n], test_cases_iGood[n], test_cases_k[n])\n",
    "    # Total time = end - start\n",
    "    execution_time_ns = (time.time() - start_time)*(10**9)\n",
    "    times2.append(execution_time_ns)"
   ]
  },
  {
   "cell_type": "code",
   "execution_count": null,
   "id": "0d633e4e",
   "metadata": {
    "id": "0d633e4e",
    "outputId": "e36ee79d-7741-4271-df08-d3bdcea585e2"
   },
   "outputs": [
    {
     "data": {
      "image/png": "[encoded data removed]",
      "text/plain": [
       "<Figure size 1080x720 with 1 Axes>"
      ]
     },
     "metadata": {
      "needs_background": "light"
     },
     "output_type": "display_data"
    }
   ],
   "source": [
    "f,ax = plt.subplots(figsize=(15, 10))\n",
    "ax.plot(range(20),times2,label='Brute Force')\n",
    "ax.set_xlabel('$n$')\n",
    "ax.set_ylabel('Time: nano seconds')\n",
    "ax.set_title('Complexity of Prime Numbers Detector')\n",
    "ax.legend(loc=0);"
   ]
  },
  {
   "cell_type": "code",
   "execution_count": null,
   "id": "57e87176",
   "metadata": {
    "id": "57e87176",
    "outputId": "90ec6eaa-5353-470d-fd1a-2c60fa123adb"
   },
   "outputs": [
    {
     "data": {
      "image/png": "[encoded data removed]",
      "text/plain": [
       "<Figure size 1080x720 with 1 Axes>"
      ]
     },
     "metadata": {
      "needs_background": "light"
     },
     "output_type": "display_data"
    }
   ],
   "source": [
    "f,ax = plt.subplots(figsize=(15,10))\n",
    "ax.plot(range(20),times,label='Prefix Tree')\n",
    "ax.plot(range(20),times2,label='Brute Force')\n",
    "ax.set_xlabel('$n$')\n",
    "ax.set_ylabel('Time: nano seconds')\n",
    "ax.set_title('Complexity of Good Substrings')\n",
    "ax.legend(loc=0);"
   ]
  },
  {
   "cell_type": "markdown",
   "id": "01a49711",
   "metadata": {
    "id": "01a49711"
   },
   "source": [
    "## Random Test Cases"
   ]
  },
  {
   "cell_type": "code",
   "execution_count": null,
   "id": "0c47b22c",
   "metadata": {
    "id": "0c47b22c",
    "outputId": "c4ff62b1-eb3e-4213-9063-fe9daa5df43b"
   },
   "outputs": [
    {
     "data": {
      "text/plain": [
       "26"
      ]
     },
     "execution_count": 77,
     "metadata": {},
     "output_type": "execute_result"
    }
   ],
   "source": [
    "import random\n",
    " \n",
    " \n",
    "# Function to create the\n",
    "# random binary string\n",
    "def rand_key(p):\n",
    "    key1 = \"\"\n",
    "    for i in range(p):\n",
    "        temp = str(random.randint(0, 1))\n",
    "        key1 += temp\n",
    "    return(key1)\n",
    "len(rand_key(26))"
   ]
  },
  {
   "cell_type": "code",
   "execution_count": null,
   "id": "2f333ceb",
   "metadata": {
    "id": "2f333ceb"
   },
   "outputs": [],
   "source": [
    "test_cases_Good = []\n",
    "for i in range(100):\n",
    "    test_cases_Good.append(rand_key(26))"
   ]
  },
  {
   "cell_type": "code",
   "execution_count": null,
   "id": "a73231c9",
   "metadata": {
    "id": "a73231c9"
   },
   "outputs": [],
   "source": [
    "import string\n",
    "\n",
    "test_cases_s = []\n",
    "for n in range(100):\n",
    "    letters = string.ascii_lowercase\n",
    "    test_cases_s.append( ''.join(random.choice(letters) for i in range(n+1)))"
   ]
  },
  {
   "cell_type": "code",
   "execution_count": null,
   "id": "b5eab47d",
   "metadata": {
    "collapsed": true,
    "id": "b5eab47d",
    "outputId": "5d9fce06-e1eb-41d0-d6d8-eca748248743"
   },
   "outputs": [
    {
     "data": {
      "text/plain": [
       "['v',\n",
       " 'zl',\n",
       " 'dff',\n",
       " 'wyxw',\n",
       " 'zceik',\n",
       " 'czvbcn',\n",
       " 'drxehim',\n",
       " 'onwguqve',\n",
       " 'eykeetoxf',\n",
       " 'aiozucrldq',\n",
       " 'zvhnehleomm',\n",
       " 'gmiychdtbptb',\n",
       " 'becguxsufuwrv',\n",
       " 'doihurdtwsnnsb',\n",
       " 'plttknbtteoqckd',\n",
       " 'eeiuwcexalgbguts',\n",
       " 'hnegxawopudpmncal',\n",
       " 'ixzsnnndurhxwgrhyk',\n",
       " 'xhhppyzjovojbcunedh',\n",
       " 'yvyefmburmzvtoaluehw',\n",
       " 'neyaxvowzrtkpfaplnjoc',\n",
       " 'fmkekpixveesuweupkhlnz',\n",
       " 'pyunzevspmrhzjelcocvgys',\n",
       " 'gdzcknjibvfaemoabzhpdtkj',\n",
       " 'wjjeushxmwktediujinvrlqxl',\n",
       " 'jityagkcumgvxpuhlmtazxqsnr',\n",
       " 'xndlmwcbpqizjyaqgbrwpwujjyo',\n",
       " 'canctsheylfcsylnduhcvimlqqwh',\n",
       " 'pqwsdvcunbahdbbotkoighaqoxxgz',\n",
       " 'vwfgkpnzvlzqyqaglssqeqlyxtbnoo',\n",
       " 'ehpgnmjurlgjezpydkvheexdmosjfbe',\n",
       " 'oavlxfrlzaarbvbmcfhadekpzaqgvdfk',\n",
       " 'bbgletpkovbuarfybcwejtevppdhpqtoi',\n",
       " 'hbggeptlndpruyswtwqcblicgcefelckos',\n",
       " 'lnlmnqfujswhduiebzjipbqetgipjfxpfwd',\n",
       " 'wpahqtvqpvukmufujvznnwptlsxlkbggnxbu',\n",
       " 'cwhfngdhrcygwaoyjykvhvwzgfugxhllcdpzd',\n",
       " 'unyqytzfnvtutdqncnhvmfxqcfqvybkgtozewa',\n",
       " 'valbqhksngwlccwlwwhufppmouqarvdnixqewjy',\n",
       " 'ifwckawwmbozebwwsgfezqfirymykkxktploqlnh',\n",
       " 'ikkcqrwzhdzxgdlafkgnnnqdaprqzxcukyyiaantv',\n",
       " 'tvrofzmkbulpqkymgpoculxmqjucaxetezwgyzglid',\n",
       " 'elxywnyymlnieodxjwypaehstpvckqrnujpzhccnlof',\n",
       " 'tdqdikgtjzxfstyydysjmtbnxdqlzcblpcfsafsmipfl',\n",
       " 'xzdxalkwnulenqdizbegjfgvnbnhmuutghyjzhyqafnvp',\n",
       " 'aycebjoetlcmilkudavdarxgovvnjfdwoqexozpbeokczb',\n",
       " 'rsobuzwujrxoncxzjorqjkuoobzaqezkadlkmgmlfbajqjb',\n",
       " 'dqngxdgiwmjtsrvcsfibxeeprsmirfgtsrcgfngmyskgmsgb',\n",
       " 'wjewcxerhrocaehztprohgqmjoncizyiktmsxbrwparlmfjmm',\n",
       " 'vbotupirbdbschiiubfdsvprvrjovydtxfefkasylvdbzxlhtm',\n",
       " 'llwbsxdonlwhlwrtsrjsdpxxnjwaporvqtqcaumnojbrlzqihxy',\n",
       " 'yxnenmnwjjwklihpzxkadngzcwunbblljkwmxopthqvtnibuspre',\n",
       " 'eoqgikdunjhiweevvfzmaoyqggilkasnaptdehwganahmlljirakr',\n",
       " 'vesludkpzaquixsbsmxfsggdwfkhvgfohhshbmttkcijdqfvqoabef',\n",
       " 'mogdoyjwxyigheappdkgshmmwvkeumneeafmqyrkzecqrfycppjitit',\n",
       " 'vdedgqgdijsnbagenmzrarwbjvrxerehvzbcplzcxfqzfgtwtfqviybx',\n",
       " 'oxwbpvgybszktsuajhlmvaexireofiemkilacwygcqdpxoezdpwzdzvin',\n",
       " 'mchnxklrwzovvibsdcsbrscfoxfosfzfbxgweyqhwnbyzuauzxjgxpeopn',\n",
       " 'ekzlmotrlcwdhfiltzcdptwqvgyntkhwelpywdngxzahtvtflfluindsplu',\n",
       " 'lqdjfiheuavphusfjsgdmulykwdiwcchlzmrscwihiwoineoddsmqskzqzuu',\n",
       " 'pslhlyavqrnymfaapjryifdncofjjgvutslqfgquustrhyzuuikjyacdcprwd',\n",
       " 'frnfdosrqsjbrpikboidkdaungnpiundqpxpwrhfrdxquyonlxyumerludhwhs',\n",
       " 'cubkisfhnuyhtyfgenxytzwgvnvagmymejlkvqfqetkosidqmefytvarykhosoo',\n",
       " 'awvzezodifrrwbnhkecqaiyumockpduxfsjhtmujedljzioonchlrvfxzhcyfqxu',\n",
       " 'nyrduypazvjbuyeedlbvelytdqdqgpxzpmmvrdewnddwvjpkzqfdxhrwggyfroegx',\n",
       " 'gmbcbmtvlsmajutlzllpykawxdfposjprxlzrcbyyhxvuzwgzkwnqutlhohgqucorj',\n",
       " 'jcsiebsgphqroeltsereuvulybuzpachikuznbysnxotgjxkapzzefwxdfobchyeyhd',\n",
       " 'lzbhphudqtfzvyymrupmklmgfxcdwqydghatihwkwrahciptxsdrrcsfudbbobvnjfet',\n",
       " 'ulftezrocwxzzlmtnwtnvrbrqypudjkzisbcpblsgecwucdlrrkqkkhsindnxzuhceiql',\n",
       " 'uysecoboyphqzbhsrllugwlxzzdaldekmqmbrcapnqgeqvgalgihomyuqdzlwhbgjpgaxo',\n",
       " 'yvpqoaiihitaeehmwqduvhqrlmcwuglealcfnnblcuhuqavbluqhxwnmskhvcchdelpxlaj',\n",
       " 'tvhwmmzfmfczfntmxrcdwsnsxtvdrzcpxelcisjidosicpycasszzsgkvfyuehjgzuntnxwq',\n",
       " 'armntminhqcsbfxvbsxnznoomigaajcpckyeaapzuiejcxchcydmurnxlbhpgsxlftmsxsqcb',\n",
       " 'uqwpyikupqsdoqsfphtzsullxurtuaaunrndyeitnoatekjzazuecdfxonmftbkiesfibsplbh',\n",
       " 'pvqjvlsmzmvkrofkrqmysmrwqahhmwatpgdafijmtkmtakdessofdnqhedyhxubpbjvgntaiwkx',\n",
       " 'lpiihwcxhytgdxwnxnjbhwdetpmodbocwxstmyxesciqyhsspsubddfzanydqkcqfvkqrfhgxmws',\n",
       " 'gqphvffdzkghwpzyjgheyectlcjvoktjukdlibyeoneokemizdcxjeeijojvvkrrktfrzcxkswind',\n",
       " 'ormuyoqvvuenjcmnguhlneqogqzsvhbkmwesuhiqrzncykosqwgaqjtvsaoykwhzludclhmltrbadx',\n",
       " 'jmpqzhdqsdxhhbqgqltpuwhzkeswwgctinzceqszgzueivvsydquyiapyqpcyhuiearcjpqkngrchqu',\n",
       " 'qsvordtjejfrpevwvuzqwxfhqjpyrseofruvyevslcvruebzkujcldablfznokzvrnzxzhbeocbqtwmf',\n",
       " 'vzktsjmzxwzatubzbrutluhtunidtpylcxdedciauidwaqnhilnrjvcjdzgqzwztoxbdjflxpeppoaxjw',\n",
       " 'egwsogavdsvaqfikypiohxfgxmivsdhrilqhuvvfmvluhqizkarqvypexbiexlcsordtgocawecelgauvp',\n",
       " 'mkkcljybfielwervfcsoakgsjmfpicuoegialwemdtcfbqdkcugvhwhitmamegfrxbfxgpovfheymfvxkoy',\n",
       " 'tyicfllmtzdhbxdhqgoadnhgcruazcvkjnxtzufyzevsisokwnuaaeblhlbsagjwtdhojotyotmuehjkiphi',\n",
       " 'xfqpnbrlndtqfjrtgrfwrtprlvkgntddmdlxzksmcuzqpopkbhdzphacsnfjjfbnbmaxreukhogbnaszkvceu',\n",
       " 'zustqgmkpgeigswnbpvqjepszlzpzbqsqvxewbqvhfefxabtuegxchdenzkeevfwybpyitswnxgiqdzminrmwm',\n",
       " 'lwnljfjvrfhjzxgpjgitefotrwfqjcgklptbdbctreewxpjjmfciaufzvaxbtqsglcnrvgnhwyxjcbhxqmgazwr',\n",
       " 'nfirfbikkzkkmcgpbqsydquufdurjkcaphuzvmeupvoaducjxbzbpcondtlznkaajmiucxebiglyvccbfmeacxlq',\n",
       " 'keamdrhuuzwgubpfjkfxtcpggdvspjuihosiymbubmxxnkvalczzyzxenksqzvmlwiryvpwsdveihjlymxhrmvbqr',\n",
       " 'pkwzshsnuphmyezlejilgvtaldpljvoqqulbafyqjgcuranesdfmeiylgpgdieuccnnnhpepucozbobuokjkbtpxyv',\n",
       " 'bmmbbbyocbowuuzeuqlshkhlptngvnetmbgikrpykahulttyehlvzpojsbofgqspednixmfomhjlsfurzxubvgsvcsb',\n",
       " 'bvnruwqjhshkwxwarvthuorllxxvgjvxzyoxqnvhzpffxcwqywmltatqwnczrumziugoblaihjnumdivkwdzlgrmwzuy',\n",
       " 'ftwqjnovjepbpifewfltshxtbdnqvdhwzojnyktucrhnblvdfucqmpmkdqaykibtptdgkeinmdgyyzytijgoqgmbhhvji',\n",
       " 'sjqrmgbijkaorfrrxndywzksytsntnauzbtbpshqrjkpbiaojxzbjzoqlcnltpfwphoiqzdgircvhaazvaulknekpiwnts',\n",
       " 'ownjgwzxmpuxkpbakicmchiapyfocovddcyqlthfoiuygyopnfnbbbmjbbtzchjqssgtrwrffxxitxbmqsngeoaihnitkyk',\n",
       " 'xifxljyiwwabnkvfucixzoxnxhgnanzuzuqoliokrrnhxchpfcgwzvuagmsjmevaewyxojmsggmblpwqpuoktmmfebbdhjmt',\n",
       " 'fatdrsfncleuplpbizotqybgdavrmtfvufejhgismlseixmsbcqoygjdibpbuvlnxdilsetrqqbrmoxwfejvhnlwxipdmzpkz',\n",
       " 'hdzhjjnwbsozwdapckhfhypgvnwjeoomeqsqxcnwfvuleahdqayqjhupfuzovrtfzsfgfoqdrnirirrlfsvarfobpmifsjjdjl',\n",
       " 'yafcedrfdgqihlofybmrppuaoyxmrqauwiwqjvolpqftlhkfvayyapqimzxeuafesynqovzypwtomgzsirybidgetfalaxbjold',\n",
       " 'qrcbiovtamcdcrynucxoiitwbectnwmxpytpkyxyppmwxmezpashrujwxowfvnajpsetsuqodyqvychvqboecxlreafxpaqeuhjc']"
      ]
     },
     "execution_count": 151,
     "metadata": {},
     "output_type": "execute_result"
    }
   ],
   "source": [
    "test_cases_s"
   ]
  },
  {
   "cell_type": "code",
   "execution_count": null,
   "id": "5f23feed",
   "metadata": {
    "collapsed": true,
    "id": "5f23feed",
    "outputId": "4f4dba97-8273-4bfd-856e-a77f00bb4260"
   },
   "outputs": [
    {
     "name": "stdout",
     "output_type": "stream",
     "text": [
      "1\n",
      "3\n",
      "5\n",
      "9\n",
      "15\n",
      "20\n",
      "28\n",
      "36\n",
      "43\n",
      "55\n",
      "63\n",
      "75\n",
      "89\n",
      "102\n",
      "115\n",
      "132\n",
      "150\n",
      "164\n",
      "185\n",
      "205\n",
      "227\n",
      "246\n",
      "269\n",
      "294\n",
      "317\n",
      "345\n",
      "369\n",
      "394\n",
      "425\n",
      "453\n",
      "485\n",
      "513\n",
      "549\n",
      "581\n",
      "613\n",
      "648\n",
      "685\n",
      "723\n",
      "764\n",
      "801\n",
      "838\n",
      "883\n",
      "927\n",
      "962\n",
      "1011\n",
      "1058\n",
      "1099\n",
      "1143\n",
      "1198\n",
      "1246\n",
      "1295\n",
      "1351\n",
      "1398\n",
      "1454\n",
      "1506\n",
      "1562\n",
      "1620\n",
      "1677\n",
      "1732\n",
      "1791\n",
      "1850\n",
      "1910\n",
      "1974\n",
      "2041\n",
      "2099\n",
      "2163\n",
      "2234\n",
      "2303\n",
      "2368\n",
      "2437\n",
      "2507\n",
      "2577\n",
      "2645\n",
      "2723\n",
      "2794\n",
      "2875\n",
      "2944\n",
      "3025\n",
      "3100\n",
      "3179\n",
      "3263\n",
      "3340\n",
      "3418\n",
      "3506\n",
      "3586\n",
      "3674\n",
      "3764\n",
      "3847\n",
      "3936\n",
      "4028\n",
      "4115\n",
      "4207\n",
      "4298\n",
      "4388\n",
      "4484\n",
      "4580\n",
      "4673\n",
      "4772\n",
      "4868\n",
      "4969\n"
     ]
    }
   ],
   "source": [
    "times = []\n",
    "for n in range(100):\n",
    "    start_time = time.time()\n",
    "    Prefix_Tree(test_cases_s[n], test_cases_Good[n],n)\n",
    "    # Total time = end - start\n",
    "    execution_time_ns = (time.time() - start_time)*(10**9)\n",
    "    times.append(execution_time_ns)"
   ]
  },
  {
   "cell_type": "code",
   "execution_count": null,
   "id": "526aaf80",
   "metadata": {
    "collapsed": true,
    "id": "526aaf80",
    "outputId": "30f97960-ad9e-4698-a21a-04d90618295b"
   },
   "outputs": [
    {
     "name": "stdout",
     "output_type": "stream",
     "text": [
      "1\n",
      "3\n",
      "5\n",
      "9\n",
      "15\n",
      "20\n",
      "28\n",
      "36\n",
      "43\n",
      "55\n",
      "63\n",
      "75\n",
      "89\n",
      "102\n",
      "115\n",
      "132\n",
      "150\n",
      "164\n",
      "185\n",
      "205\n",
      "227\n",
      "246\n",
      "269\n",
      "294\n",
      "317\n",
      "345\n",
      "369\n",
      "394\n",
      "425\n",
      "453\n",
      "485\n",
      "513\n",
      "549\n",
      "581\n",
      "613\n",
      "648\n",
      "685\n",
      "723\n",
      "764\n",
      "801\n",
      "838\n",
      "883\n",
      "927\n",
      "962\n",
      "1011\n",
      "1058\n",
      "1099\n",
      "1143\n",
      "1198\n",
      "1246\n",
      "1295\n",
      "1351\n",
      "1398\n",
      "1454\n",
      "1506\n",
      "1562\n",
      "1620\n",
      "1677\n",
      "1732\n",
      "1791\n",
      "1850\n",
      "1910\n",
      "1974\n",
      "2041\n",
      "2099\n",
      "2163\n",
      "2234\n",
      "2303\n",
      "2368\n",
      "2437\n",
      "2507\n",
      "2577\n",
      "2645\n",
      "2723\n",
      "2794\n",
      "2875\n",
      "2944\n",
      "3025\n",
      "3100\n",
      "3179\n",
      "3263\n",
      "3340\n",
      "3418\n",
      "3506\n",
      "3586\n",
      "3674\n",
      "3764\n",
      "3847\n",
      "3936\n",
      "4028\n",
      "4115\n",
      "4207\n",
      "4298\n",
      "4388\n",
      "4484\n",
      "4580\n",
      "4673\n",
      "4772\n",
      "4868\n",
      "4969\n"
     ]
    }
   ],
   "source": [
    "times2 = []\n",
    "for n in range(100):\n",
    "    start_time = time.time()\n",
    "    Brute_Force(test_cases_s[n], test_cases_Good[n],n)\n",
    "    # Total time = end - start\n",
    "    execution_time_ns = (time.time() - start_time)*(10**9)\n",
    "    times2.append(execution_time_ns)"
   ]
  },
  {
   "cell_type": "code",
   "execution_count": null,
   "id": "ce32b627",
   "metadata": {
    "id": "ce32b627",
    "outputId": "968442e2-7b1c-43ef-f6c0-66085117b4ee"
   },
   "outputs": [
    {
     "data": {
      "image/png": "[encoded data removed]",
      "text/plain": [
       "<Figure size 1080x720 with 1 Axes>"
      ]
     },
     "metadata": {
      "needs_background": "light"
     },
     "output_type": "display_data"
    }
   ],
   "source": [
    "f,ax = plt.subplots(figsize=(15,10))\n",
    "ax.plot(range(100),times,label='Prefix Tree')\n",
    "ax.plot(range(100),times2,label='Brute Force')\n",
    "ax.set_xlabel('$n$')\n",
    "ax.set_ylabel('Time: nano seconds')\n",
    "ax.set_title('Complexity of Good Substrings')\n",
    "ax.legend(loc=0);"
   ]
  },
  {
   "cell_type": "markdown",
   "id": "3889bf90",
   "metadata": {
    "id": "3889bf90"
   },
   "source": [
    "times"
   ]
  },
  {
   "cell_type": "code",
   "execution_count": null,
   "id": "b453ef0b",
   "metadata": {
    "id": "b453ef0b",
    "outputId": "d1a5661d-9d52-4b21-8819-4d9396b31527"
   },
   "outputs": [
    {
     "name": "stdout",
     "output_type": "stream",
     "text": [
      "4 cpdwiiizdjjjptgoawfqyfuvvlodkcwhqzjdmxivbwwltfclooyqxyhbamowtjwcodoaaehwdoxryvpbxjwzaicbalebjirqwhql 00111100000101001111000000 \n",
      " 1111111111\n",
      "48 tomwpssnsdbhqscguufkyaormvxckpkzzcrullllzrtghnfbmpzockdwjqzwpxugdomcltrhhzfejnzhwyytlizzhhdkxxuizdho 10101000000010111110111111 \n",
      " 111111111111111\n",
      "80 azaedkhdlwbuazknosmhmwiqteeficvzoschxpaxgnqzvttxqseoygmqqlrrtdskovhdobcuxqyhxscfljfnftklholeezufgikg 00111000111100011001000001 \n",
      " 11111111111\n"
     ]
    }
   ],
   "source": [
    "for i in range(len(times)):\n",
    "    if times[i] > 35752773.28491211:\n",
    "        print(i, test_cases_s[i], test_cases_Good[i], '\\n', int(''.join(test_cases_Good[i].split('0'))))"
   ]
  },
  {
   "cell_type": "markdown",
   "id": "b827e61f",
   "metadata": {
    "id": "b827e61f"
   },
   "source": [
    "# the worst case is when the number of good substrings increase and there are many factors affecting this "
   ]
  },
  {
   "cell_type": "code",
   "execution_count": null,
   "id": "df327d11",
   "metadata": {
    "collapsed": true,
    "id": "df327d11",
    "outputId": "baa02cad-13fe-4e7e-af5b-e9f57235b3ab"
   },
   "outputs": [
    {
     "name": "stdout",
     "output_type": "stream",
     "text": [
      "1 embfwgbzyaejvyxqvfakphlbvaswuyrmvimfuntnxzeaglorismobrkwfieyxxklijfwywnxllivvsvxlvnxstpuubhqnrmsbegy 00100111010101011000111011 11111111111111 \n",
      "\n",
      "3 kaxizpbcddjfielkjhgdakddwvtcurqqrhlrojdtwlnzjxafhrpsjiehzkkuqeyloxwlxmsswdgzhvksfsrxmagfqycuouonafxj 11000011100110000001111011 1111111111111 \n",
      "\n",
      "6 pewswmumpvseldrouvdmonrbwwbfcwxyosvypbtqzkoconilwzwzgmrguipkmpijankusobfbuygtwvwbeikmxsumzjatuxnisyq 11110111111101100000111001 11111111111111111 \n",
      "\n",
      "7 hhzsfvgefydykklxxeqffweiymezrbcknfiyebixhaoskrulrcnlftmppstrkepqndxknjznuvdzslbbmbeimozdeeyckqmuhxyt 10111110011010010010101110 111111111111111 \n",
      "\n",
      "8 vomhwbuxnnbbmxzdrecpwhjwyyjycwwnuazrvkqajpfmqmllzrqpgbyuavlcwqeimbxujcikssjuirjwsalhsbhgnrrmpxapcwsm 01111111011111100000001110 1111111111111111 \n",
      "\n",
      "9 ytyvlfxpcziynrribvufdcgberjepzlqhayqhzzzorxecejcdhdpchelyejfviotrutdukjnstbglvanlbxaeuaxjtwguxinvhpz 00011001101010000000101001 111111111 \n",
      "\n",
      "11 xdxinlynaebcysbylefjptdpkmjivjxazbycxkblxeozaryiuxuusobktasbzunmejwivcovjivjxxfnqxojtrnxmujlkqahryom 11111010001110001010011000 1111111111111 \n",
      "\n",
      "12 xzzhsofnmbrxuylmhaqhlwflvvuiynzzhrbxayihxkcetwiuytkgnkxwxboklmgcriyngtxgdmkhczmtjupugsylluaqlzfsdjrb 11101110001110010111110110 11111111111111111 \n",
      "\n",
      "13 abhwqijmsxanpisakfrcrswtqwrkfrdxyibiuwbflnlkemvbianzqihefzagquynawdimqawvxmudtbsbehkgbnqwvzpvfryggsa 00110101110101001000110100 111111111111 \n",
      "\n",
      "14 alaetgbvvbguqjictmxwckuqksfifqhyvnmqkjswxiuoaezlskqntbxcwsopphjxdwifosslohpnqbpznwaxkrcbwhyjpslvwdul 00011110010000010010011001 1111111111 \n",
      "\n",
      "15 znxecmdkrhdwqyzgeptngqtitstdshlswftspsgcwkkpykrgdlzlqikbtslbmpvsdstjuoopfbivmouufkkcefphvhzcsjsuicax 10011000000111010010010111 111111111111 \n",
      "\n",
      "16 bveqhsfbdzgcpqnbdzklaezseogecrxiuvrergyftuvkhqxnzoaypioncynhoifrboaysacuyxodrwuwzqfszhaxaakbipdbgyyv 01110100100111101101001110 111111111111111 \n",
      "\n",
      "18 peluwkhstrlvvrxtwvnvlefsuyytlgjrpswplnovajjjoedzxijkhhiffjwyguppvrpklrnskogvrzwwayfesnlxybyrkpxjbled 11111110101011010110011111 1111111111111111111 \n",
      "\n",
      "19 dkztycoujhjinsfaqmkzevrsaeaehobmuvzuvinqpzkyvtguuuxifrhambweieukkimiabgwpxpgmcjjpwviucyuejkpifazmvqg 01101100001100011010001000 1111111111 \n",
      "\n",
      "20 aqxptqfhxrncckxmuryvzlexndhuldknjilrwxxdccuurywphgzgjotutkaeitkoqfcfahycwnchxzpfjkanegbhytqzldylqdql 11101011100101001111111001 11111111111111111 \n",
      "\n",
      "21 wnedftmecemjjoctkngusmqnyjgmbtwxsssbjhogfkdozuqvlgcisumfwoiwbvavjzfwgpxworshxrtbcpntliiragbndxazsemz 10000001100000010101100100 11111111 \n",
      "\n",
      "22 mummturxvisiiblsmbebxvvbejhmzlinzbdsrteppvnjvrgklxxjzlxnkqvusbqlvkaknjapngmkjrttcwmhbmcaxwgpedpdjfqe 01101101010000101100000101 11111111111 \n",
      "\n",
      "26 yvhfgkrppengughjwlqaflqcozlbkuddcnxdjaweembtxzaekhzgexjwkccukeumrcbkeqvirbprvdyzkrcsclyarqtegypvojsm 10010110010001111100000110 111111111111 \n",
      "\n",
      "27 kyoasfibzgeuxhznelnibaembwxdivzteobqgbxfsfymjvngfmbdfkdkwjlvwgiqherulxdebqdjjtcyqwkbvjdzwkxiphelnhtl 11101101100111010000110011 111111111111111 \n",
      "\n",
      "28 rkgowmejbuoxcccuyhnkvzkocnpoeezoimyhlreftyogbmjqkanfhknppkwakmqzavzybcxpvkyqptwnniyiwmvjuqkzsejacrun 11010100101101111110101110 11111111111111111 \n",
      "\n",
      "31 vvstwdwcotikoqtxmpjeouyzoyemxqrbymjzwtajfzyvhbvgklwfvdwtmmzpzsrcexybnstfhivsklaighjdtkfxvtgslfxoriqk 01011111100010111011111011 111111111111111111 \n",
      "\n",
      "32 mrpnucvgtruychluqrlrytmgvkzxntzulqtrugydsjpldunngummbjicyntyerwwqdelsalznyphugcymnnfuwkotuolnvrrwxmk 01100110001010101111000111 11111111111111 \n",
      "\n",
      "33 zaszxhzvhlnbdoumsejbovuxprhktuyfvcpgnjnfhvtksuxcolqvwffmcxqdxssfytufunvsmzrcfocxlhqifvfriynkhafnxxfh 11001010100100110001101101 1111111111111 \n",
      "\n",
      "34 lggtlbfzxpnouacdtklfxesffkxfbvcfvqfspwygnbplwptrczljjalaghynulcfejbwqbwfqlggrwgehfrfnjfzabinhfgrsckl 00101110000101111100001100 111111111111 \n",
      "\n",
      "35 qizcxfhbkrmhuzhjmwygjatdgbqfzowmjzpqqfewlpynmnguqkkimvdqgtkcaycrnhgpctyufaplbikywqcsiotacqsyuvcwqkxq 00001000100110110011110111 1111111111111 \n",
      "\n",
      "37 ukahbhynwxsjsyfmnlaggptzgohwjjyroztbxtoihfhfikayendsybhtwucxvddmydemyyyrrvfwjhdfcprfbuvrhpcpqagfhnlt 11111001000110000000100111 111111111111 \n",
      "\n",
      "38 rnzmnilqqmlbzdojdxvwmmnfhyeafeesmizrtbktsbhrtkpxrvadbgnpyeycobpdcwrdsvglczrfibmegdmnmysrftfhbxbgssct 10111010111011010101001100 111111111111111 \n",
      "\n",
      "39 ihwgmdjdalcomozfcsvswadhpsjotfavrfgmtqodbxvbsmlevsklkhlexgzikwdbvwfjlxvzkeiwpwncwalpclmtxohhdxauipxd 01011100010000100011111001 111111111111 \n",
      "\n",
      "40 bbaiwbrklfiscgxcctwldormqquvxgsptaqrirzpsfvfmwxcwrsvmdfitosggdtdmkbyqcqnyrmmkibvprfhqjnbgazktlqbnbhe 10001011111010101111001111 11111111111111111 \n",
      "\n",
      "41 ctxbahfdahofnvcpxxzyaqcbyvdntimzrsprkhnzlorwoqkcamnrutxntobykimcwdhlengndqgqolhuuoflowepjfvgnkzrasvj 00101001000011111110100100 111111111111 \n",
      "\n",
      "44 rdcpehscezvtghstyrpqoitcuuinyjcrglsdfhwiugiyrhohgegrjybvccltdyshadllvumevutmfcnsijzqwhvvcbkmmxfptlke 11011101111011010110000101 1111111111111111 \n",
      "\n",
      "45 dpuiguhvlzqyylqtrphhfxtdwznkpgszvbutzadsqddskhapzqkoiqtesgweqdyeixufrnbypsqkptojwtsshjctwzqvlopkpycb 00000111110001011010000001 1111111111 \n",
      "\n",
      "46 nswclaimqtlkqrgknbgobtqihkglwglfqkacmkmiyecmdmjiccxusmcxsilyzzixpenzpztjbvylrisnqsdohkrnvtdvyvajhnke 01101010000100110011011101 1111111111111 \n",
      "\n",
      "47 vzekanuqjyhrtsznovxgvluzbbiuuzfbaquqigammvddffudxdfbidymwfpbwnovajikfmqfgkudkgdtmdurvrvpudzapqaqwcen 00000000000001111101011000 11111111 \n",
      "\n",
      "50 nsczutpcxuymykuregeuwrqtraernarefxytupblgqnelradwfaackpxwbtzcphrtvrhgplxwmfzersqsgcttlsbqveczksbeixu 11110001110000100100001111 1111111111111 \n",
      "\n",
      "51 bchyoggvoboyhukjdxxxfuobhjnejwuhbojivxqaclhsfttcnwfzplyvafznokrwhxvoamywviptquciplomrudrhhfiuqiezovi 00000100000011001100011010 11111111 \n",
      "\n",
      "52 xcfgtplglssnffikxgsiyftzwwmdhmofaoggzkseyzdqkcacybznqkagbpaopmfjxnnbauzhnwtcsaabyreuzqukjdgzultjmaxs 01100011011110011101001000 1111111111111 \n",
      "\n",
      "53 irgxrhsxzxmngfpbsamuefolifwosnmnixaxuzksciwekhmltoimjnsfakqtgsjwbwhawnwhpolodkegdktytvocxkahxlacnwfa 00011001011110001001111110 11111111111111 \n",
      "\n",
      "54 skuzgtrgepbebeozhzfmhjdwxihamufxwtvxtpaysziltomtldagsbdkfukddlkgywtgxjwifakantklpayzclgtqnbvmvujaigl 01111110100010101111000010 11111111111111 \n",
      "\n",
      "56 hshrqjawjyxoxnxwvojzmoeszvtdyqzwlpmttyqyebrdebiexxeeinelfrrqssedjmzeniqjgkadjwfpalqgmvdwmtitcgjibvxg 10010111101110111000101111 11111111111111111 \n",
      "\n",
      "57 zueiqmjaxnlyolmkhydiygoidmijdrzhvmmzzsxoditoebxijwrdshvqkfnwsleuopvljrqgxqeaudivwxigkefiduacaieghrkd 00111100101000001111010000 11111111111 \n",
      "\n",
      "58 zszajpnlqlnrswrguwcdikdvtuhsehjeuunweslkfuyvhgpafzzmhkmpdakcgwdolmhquswvvcacuigvayliljabiclesqxxwlft 11111110101010010111011101 111111111111111111 \n",
      "\n",
      "59 ujmrrdtawygqevozvtgeztcpyzczsvsjeghjifjvrayzevhddshqqaftsogsrrmwrutxbrdyhcaiekpksohrhcvbsnnecnksoyjv 01010110100001000101000101 1111111111 \n",
      "\n",
      "60 txynpeowxnfknegavakkrymtlrwfhkjyokryuolyporejqzcvsvtripeivwfyalisxpygylxcnaqoagwwphsbfjcwysxqjtruzox 10000011010100111001110001 111111111111 \n",
      "\n",
      "62 ztsbiwzsbuxukunrxdsattjxffnalqwbkfjluprbendoqwqogkycymywjjpdmnaxwrtxdtsjhsbgwobudksdkelrtdsdrbhsghat 01100111111011011000100111 1111111111111111 \n",
      "\n",
      "63 erjrhxyfmbcvztvratninkmsbcqsmgxyxcqubgsaafypnytmiqtwuxjljedzixmpayxnphbihmaljvnxplxodjbuymtgjvpyanza 11011101110001011010110110 1111111111111111 \n",
      "\n",
      "64 etblwowaeedjhbdjtocyrexsyhrjacfvjlapdiitcnprytckutuooeqekjdwrsahhixyxqwwptflyyriwvkrwujqdxpcjfckcwet 10110010101000100111010110 1111111111111 \n",
      "\n",
      "65 zikioejjbwtdzqaogkutgidiaaamrhyszqkfyxnbpqdjkzpwrnvsenaevbjaxmkscvvmjgiayscfvjdozbbskffehgtqlolhryxv 10011001011110010000100011 111111111111 \n",
      "\n",
      "66 hditedmxmqhuwqvswraoslepybjrhlecsyktezgpzfycpjuwtzbnbxsnkinivxgqzgyktsbatbrjlqgtvpzyetrddthhhxfrjxgp 10001000110101110000101001 11111111111 \n",
      "\n",
      "70 kekizotczvnzbpungzmloulgiotjgkhizghegtnxdbkgkfubofdtgambihprsdrdtgxbdmrakupusqxzxjvphalhzqnphwzqducy 10011001010011011011111010 111111111111111 \n",
      "\n",
      "71 qelrlkwwtudizduwqktvmuwiylslnuvxwfngebokfeoumwgjmlwvgjauwgnzhlyldhxlpooznkjrdcoibilhyksrsinoyzwjfath 00001001100100101000100101 111111111 \n",
      "\n",
      "72 zdwuleyvnbuwaumiqwjgmeyympaohioeewnulyjvefferbvtbvcbzcyfyfdchyrwwuiyqqhsmcurncryxxznjgctobuymwryeisx 01011001001010111010001101 1111111111111 \n",
      "\n",
      "73 fuarkolyhlubtrzugccnrzshejnqstfwuocazqjndxfcpvhqbayzaqqarssnxzpqprqkavtucqmkyjcbjnxdqhlsrvyltfjztasx 11101011001111111101100011 111111111111111111 \n",
      "\n",
      "75 iilsdwxyjthwnqhvykxizuspsbazlvtxmxixdsgvarwrhidfpepyzkjbggfpcmtcusmocigubkpivmkfunoawjutmtpeenhwpbdd 10000111110110100110000110 1111111111111 \n",
      "\n",
      "76 dadjhdvzcuoawbbblhitufafonpwuoommveyhwnrilngpyhjgfywromxtcojgqvowjoleodvnvfdlnxeandcsloljyhddhvrpvru 00010100001011100100100101 1111111111 \n",
      "\n",
      "77 eidrahfvvllmrvaftffmhvdxqjkaemntqamuoyqnhzhuvzxqyibsjgejifcsmdwgvzjawhkysdabxqhfoolwmlrhtevrgvhkucjd 10111010101011000001111110 111111111111111 \n",
      "\n",
      "78 jfuvdjdcknojksearkfjmioeckvkgqkqfegmycqafvascjnyzttzdfgopmtywklbkqbtybtrtthpcafculhtpnwlpjubdqcoqgqu 00000011010011110000010001 111111111 \n",
      "\n",
      "79 jpliehwltozgtlmhueacacpdgfizxlvlqepqapaotyzkztouzcthepyprdkdkrhonmifkfvtehvgkplbgnikfincmowdkcystcgc 10110000000100101101011001 11111111111 \n",
      "\n",
      "82 paeduigvlkuvpzsyxbttptxumujbozcbjomlgkkzuhbmvoekahofvgapupeawximffoyczpwnqtegosjwjhxbntbbvicaokjntel 00000101000001101001000001 1111111 \n",
      "\n",
      "83 waplgsollyzcyonvwowflfgdubthvajgkirtgrwtmtzshtxsxtyopgfvwbaxeveitfmqypnrxsmavijdamtctbzqcjexvwauseng 01110101010101000010101010 111111111111 \n",
      "\n",
      "84 zryuewpeaarwjnurbrmwycrlspwekyebdildqhrajonurklqldfdotyydhfqxkhubhpxpuvdzwrrrtmnzewngchhsbrqygstabig 01110101001111101100101000 11111111111111 \n",
      "\n",
      "85 irkjhkwajbgfdxjiaqrkmdjseclbpvufonjkdtaqtlewrpuafarkwxmxqwfbblweukohbicugnuwmzmijgdptwpftmgybcgrubrw 10101111110111111011101110 11111111111111111111 \n",
      "\n",
      "88 kaybvpelnicfbgyfowmlphhmtwuwqndyepsezweqcmfjzuxspwnvxpbepzhmfjapmzgywlldjxqlmmvvvelowcnmmvtlpefhetou 01010000001000100110000000 111111 \n",
      "\n",
      "89 aygizhqdiofafjeeirvloeqtapcnwvisyocoflyutctfyosskolsopfcuykpctigtmoigkwirapgmlssgqejsozcvssigmzzqxoa 11001101010001001101110111 111111111111111 \n",
      "\n",
      "91 ooqwbnriwktmwuxnvhwejvdbowpfjwthmnexjenoggoalxjbsskuvzexxeafnqeyvxllyvhicptqzibbvgfxyufafswrvqlchllk 11110101100111001110100110 1111111111111111 \n",
      "\n",
      "92 tgbktilcewoczxlemgadlwgeulqhcvcdughpupjcgqwceglirnzryltvovytbmwmkuwymdzaesvuraoenyqehhvmdsnsynngzhcb 01010101000111000000111111 1111111111111 \n",
      "\n",
      "94 unreldttaiqmwlaxkpmmwdinpgialxecosijvjvyrjldzmnbiaysgranluylmlcmznjkaqkeauesjsughtsmlmwjkyqslfsgvwwc 01001010110110111010101010 11111111111111 \n",
      "\n",
      "95 mkcgzrsooswmdczcoumzehuqeudseixirvlupujhlyuhvgdfxvfnvdkblcalyhtssjpxghzyzkiydhvjvviardmcswbpibkrtylh 01001001111110110110101001 111111111111111 \n",
      "\n",
      "96 awowrzbpprdjsgxcqqnbkphmvqxsrlshsfdxaqvxhesdsnphpkciwjvqubsrkchwnzmczrajghfzrafrvemksvdmcnwlbwrivxlp 00001101001011101100111000 111111111111 \n",
      "\n",
      "97 iohksowbovxxbscuphoafhggwcefvolidicjbrguclnsiaqdcytpbltbqlgnyuspnvbmglpnbxwjahqhayzkkagnutnfyllozsyh 01100111100100101010000100 11111111111 \n",
      "\n",
      "98 tktvccknuxofcqikphzajwpfrzpmnybndvruprifubnremxywremtmihofuwmhxrdlmnrwbqbdxsuervxhqvjnoqfxzmdpfsldrb 10010010111101110101100000 1111111111111 \n",
      "\n"
     ]
    }
   ],
   "source": [
    "for i in range(len(times)):\n",
    "    if times[i] < 10752773.28491211:\n",
    "        print(i, test_cases_s[i], test_cases_Good[i],  int(''.join(test_cases_Good[i].split('0'))), '\\n')"
   ]
  },
  {
   "cell_type": "code",
   "execution_count": null,
   "id": "0a9cc2fb",
   "metadata": {
    "collapsed": true,
    "id": "0a9cc2fb",
    "outputId": "a3da1a42-ee0a-4355-bc9b-9e6def41bea1"
   },
   "outputs": [
    {
     "name": "stdout",
     "output_type": "stream",
     "text": [
      "1\n",
      "3\n",
      "5\n",
      "9\n",
      "15\n",
      "20\n",
      "28\n",
      "36\n",
      "43\n",
      "55\n",
      "63\n",
      "75\n",
      "89\n",
      "102\n",
      "115\n",
      "132\n",
      "150\n",
      "164\n",
      "185\n",
      "205\n",
      "227\n",
      "246\n",
      "269\n",
      "294\n",
      "317\n",
      "345\n",
      "369\n",
      "394\n",
      "425\n",
      "453\n",
      "485\n",
      "513\n",
      "549\n",
      "581\n",
      "613\n",
      "648\n",
      "685\n",
      "723\n",
      "764\n",
      "801\n",
      "838\n",
      "883\n",
      "927\n",
      "962\n",
      "1011\n",
      "1058\n",
      "1099\n",
      "1143\n",
      "1198\n",
      "1246\n",
      "1295\n",
      "1351\n",
      "1398\n",
      "1454\n",
      "1506\n",
      "1562\n",
      "1620\n",
      "1677\n",
      "1732\n",
      "1791\n",
      "1850\n",
      "1910\n",
      "1974\n",
      "2041\n",
      "2099\n",
      "2163\n",
      "2234\n",
      "2303\n",
      "2368\n",
      "2437\n",
      "2507\n",
      "2577\n",
      "2645\n",
      "2723\n",
      "2794\n",
      "2875\n",
      "2944\n",
      "3025\n",
      "3100\n",
      "3179\n",
      "3263\n",
      "3340\n",
      "3418\n",
      "3506\n",
      "3586\n",
      "3674\n",
      "3764\n",
      "3847\n",
      "3936\n",
      "4028\n",
      "4115\n",
      "4207\n",
      "4298\n",
      "4388\n",
      "4484\n",
      "4580\n",
      "4673\n",
      "4772\n",
      "4868\n",
      "4969\n"
     ]
    }
   ],
   "source": [
    "times = []\n",
    "for n in range(100):\n",
    "    start_time = time.time()\n",
    "    Prefix_Tree(test_cases_s[n], \"00000000000000000000000000\",100)\n",
    "    # Total time = end - start\n",
    "    execution_time_ns = (time.time() - start_time)*(10**9)\n",
    "    times.append(execution_time_ns)"
   ]
  },
  {
   "cell_type": "code",
   "execution_count": null,
   "id": "ffe8a20b",
   "metadata": {
    "collapsed": true,
    "id": "ffe8a20b",
    "outputId": "abc38295-5455-40cd-fbf2-981bc01935a4"
   },
   "outputs": [
    {
     "name": "stdout",
     "output_type": "stream",
     "text": [
      "1\n",
      "3\n",
      "5\n",
      "9\n",
      "15\n",
      "20\n",
      "28\n",
      "36\n",
      "43\n",
      "55\n",
      "63\n",
      "75\n",
      "89\n",
      "102\n",
      "115\n",
      "132\n",
      "150\n",
      "164\n",
      "185\n",
      "205\n",
      "227\n",
      "246\n",
      "269\n",
      "294\n",
      "317\n",
      "345\n",
      "369\n",
      "394\n",
      "425\n",
      "453\n",
      "485\n",
      "513\n",
      "549\n",
      "581\n",
      "613\n",
      "648\n",
      "685\n",
      "723\n",
      "764\n",
      "801\n",
      "838\n",
      "883\n",
      "927\n",
      "962\n",
      "1011\n",
      "1058\n",
      "1099\n",
      "1143\n",
      "1198\n",
      "1246\n",
      "1295\n",
      "1351\n",
      "1398\n",
      "1454\n",
      "1506\n",
      "1562\n",
      "1620\n",
      "1677\n",
      "1732\n",
      "1791\n",
      "1850\n",
      "1910\n",
      "1974\n",
      "2041\n",
      "2099\n",
      "2163\n",
      "2234\n",
      "2303\n",
      "2368\n",
      "2437\n",
      "2507\n",
      "2577\n",
      "2645\n",
      "2723\n",
      "2794\n",
      "2875\n",
      "2944\n",
      "3025\n",
      "3100\n",
      "3179\n",
      "3263\n",
      "3340\n",
      "3418\n",
      "3506\n",
      "3586\n",
      "3674\n",
      "3764\n",
      "3847\n",
      "3936\n",
      "4028\n",
      "4115\n",
      "4207\n",
      "4298\n",
      "4388\n",
      "4484\n",
      "4580\n",
      "4673\n",
      "4772\n",
      "4868\n",
      "4969\n"
     ]
    }
   ],
   "source": [
    "times2 = []\n",
    "for n in range(100):\n",
    "    start_time = time.time()\n",
    "    Brute_Force(test_cases_s[n], \"00000000000000000000000000\",100)\n",
    "    # Total time = end - start\n",
    "    execution_time_ns = (time.time() - start_time)*(10**9)\n",
    "    times2.append(execution_time_ns)"
   ]
  },
  {
   "cell_type": "code",
   "execution_count": null,
   "id": "f0dddc71",
   "metadata": {
    "id": "f0dddc71",
    "outputId": "3f12ac8b-3802-45b4-a543-34dc386fc7b9"
   },
   "outputs": [
    {
     "data": {
      "image/png": "[encoded data removed]",
      "text/plain": [
       "<Figure size 1080x720 with 1 Axes>"
      ]
     },
     "metadata": {
      "needs_background": "light"
     },
     "output_type": "display_data"
    }
   ],
   "source": [
    "f,ax = plt.subplots(figsize=(15,10))\n",
    "ax.plot(range(100),times,label='Prefix Tree')\n",
    "ax.plot(range(100),times2,label='Brute Force')\n",
    "ax.set_xlabel('$n$')\n",
    "ax.set_ylabel('Time: nano seconds')\n",
    "ax.set_title('Complexity of Good Substrings')\n",
    "ax.legend(loc=0);"
   ]
  },
  {
   "cell_type": "code",
   "execution_count": null,
   "id": "4a57e081",
   "metadata": {
    "id": "4a57e081",
    "outputId": "26627047-6e00-47a8-a5d7-a02a4d1bf0f1"
   },
   "outputs": [
    {
     "name": "stdout",
     "output_type": "stream",
     "text": [
      "13\n",
      "58\n",
      "94\n",
      "124\n",
      "151\n",
      "176\n",
      "198\n",
      "218\n",
      "238\n",
      "258\n",
      "276\n",
      "294\n",
      "312\n",
      "330\n",
      "344\n",
      "350\n",
      "351\n",
      "351\n",
      "351\n",
      "351\n",
      "351\n",
      "351\n",
      "351\n",
      "351\n",
      "351\n",
      "351\n",
      "351\n",
      "351\n",
      "351\n",
      "351\n",
      "351\n",
      "351\n",
      "351\n",
      "351\n",
      "351\n",
      "351\n",
      "351\n",
      "351\n",
      "351\n",
      "351\n",
      "351\n",
      "351\n",
      "351\n",
      "351\n",
      "351\n",
      "351\n",
      "351\n",
      "351\n",
      "351\n",
      "351\n",
      "351\n",
      "351\n",
      "351\n",
      "351\n",
      "351\n",
      "351\n",
      "351\n",
      "351\n",
      "351\n",
      "351\n",
      "351\n",
      "351\n",
      "351\n",
      "351\n",
      "351\n",
      "351\n",
      "351\n",
      "351\n",
      "351\n",
      "351\n",
      "351\n",
      "351\n",
      "351\n",
      "351\n",
      "351\n",
      "351\n",
      "351\n",
      "351\n",
      "351\n",
      "351\n",
      "351\n",
      "351\n",
      "351\n",
      "351\n",
      "351\n",
      "351\n",
      "351\n",
      "351\n",
      "351\n",
      "351\n",
      "351\n",
      "351\n",
      "351\n",
      "351\n",
      "351\n",
      "351\n",
      "351\n",
      "351\n",
      "351\n",
      "351\n",
      "13\n",
      "58\n",
      "94\n",
      "124\n",
      "151\n",
      "176\n",
      "198\n",
      "218\n",
      "238\n",
      "258\n",
      "276\n",
      "294\n",
      "312\n",
      "330\n",
      "344\n",
      "350\n",
      "351\n",
      "351\n",
      "351\n",
      "351\n",
      "351\n",
      "351\n",
      "351\n",
      "351\n",
      "351\n",
      "351\n",
      "351\n",
      "351\n",
      "351\n",
      "351\n",
      "351\n",
      "351\n",
      "351\n",
      "351\n",
      "351\n",
      "351\n",
      "351\n",
      "351\n",
      "351\n",
      "351\n",
      "351\n",
      "351\n",
      "351\n",
      "351\n",
      "351\n",
      "351\n",
      "351\n",
      "351\n",
      "351\n",
      "351\n",
      "351\n",
      "351\n",
      "351\n",
      "351\n",
      "351\n",
      "351\n",
      "351\n",
      "351\n",
      "351\n",
      "351\n",
      "351\n",
      "351\n",
      "351\n",
      "351\n",
      "351\n",
      "351\n",
      "351\n",
      "351\n",
      "351\n",
      "351\n",
      "351\n",
      "351\n",
      "351\n",
      "351\n",
      "351\n",
      "351\n",
      "351\n",
      "351\n",
      "351\n",
      "351\n",
      "351\n",
      "351\n",
      "351\n",
      "351\n",
      "351\n",
      "351\n",
      "351\n",
      "351\n",
      "351\n",
      "351\n",
      "351\n",
      "351\n",
      "351\n",
      "351\n",
      "351\n",
      "351\n",
      "351\n",
      "351\n",
      "351\n",
      "351\n"
     ]
    },
    {
     "data": {
      "image/png": "[encoded data removed]",
      "text/plain": [
       "<Figure size 1080x720 with 1 Axes>"
      ]
     },
     "metadata": {
      "needs_background": "light"
     },
     "output_type": "display_data"
    }
   ],
   "source": [
    "times = []\n",
    "for n in range(100):\n",
    "    start_time = time.time()\n",
    "    Prefix_Tree(\"abcdefghijklmnopqrstuvwxyz\", test_cases_Good[i],n)\n",
    "    # Total time = end - start\n",
    "    execution_time_ns = (time.time() - start_time)*(10**9)\n",
    "    times.append(execution_time_ns)\n",
    "times2 = []\n",
    "for n in range(100):\n",
    "    start_time = time.time()\n",
    "    Brute_Force(\"abcdefghijklmnopqrstuvwxyz\", test_cases_Good[i],n)\n",
    "    # Total time = end - start\n",
    "    execution_time_ns = (time.time() - start_time)*(10**9)\n",
    "    times2.append(execution_time_ns)\n",
    "f,ax = plt.subplots(figsize=(15,10))\n",
    "ax.plot(range(100),times,label='Prefix Tree')\n",
    "ax.plot(range(100),times2,label='Brute Force')\n",
    "ax.set_xlabel('$n$')\n",
    "ax.set_ylabel('Time: nano seconds')\n",
    "ax.set_title('Complexity of Good Substrings')\n",
    "ax.legend(loc=0);"
   ]
  },
  {
   "cell_type": "markdown",
   "id": "bb31c983",
   "metadata": {
    "id": "bb31c983"
   },
   "source": [
    "### the worst case for the Prefix Tree is when the ther is more variation in the letters which makes the tree input the substring from the root. while the brute force seems to be stable most of the time and only increases when the string length increases"
   ]
  },
  {
   "cell_type": "markdown",
   "id": "9d065044",
   "metadata": {
    "id": "9d065044"
   },
   "source": [
    "## complexity analysis of brute force is O(N*M^2) where N is the number of characters and M is the number of substrings"
   ]
  },
  {
   "cell_type": "markdown",
   "id": "4c9fb8f2",
   "metadata": {
    "id": "4c9fb8f2"
   },
   "source": [
    "## complexity analysis of Prefix Tree is O(N*M) where N is the number of characters and M is the number of substrings"
   ]
  }
 ],
 "metadata": {
  "colab": {
   "collapsed_sections": [],
   "name": "D.Good_Substrings.ipynb",
   "provenance": []
  },
  "kernelspec": {
   "display_name": "Python 3",
   "language": "python",
   "name": "python3"
  },
  "language_info": {
   "codemirror_mode": {
    "name": "ipython",
    "version": 3
   },
   "file_extension": ".py",
   "mimetype": "text/x-python",
   "name": "python",
   "nbconvert_exporter": "python",
   "pygments_lexer": "ipython3",
   "version": "3.8.8"
  }
 },
 "nbformat": 4,
 "nbformat_minor": 5
}
