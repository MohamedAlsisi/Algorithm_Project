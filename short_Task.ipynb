{
  "cells": [
    {
      "cell_type": "markdown",
      "source": [
        "## Problem\n",
        "*G. Short Task #713\n",
        "* site: https://codeforces.com/problemset/problem/1512/G\n",
        "* submission1: https://codeforces.com/problemset/submission/1512/142061214\n"
      ],
      "metadata": {
        "id": "EzACKOtq5IS2"
      },
      "id": "EzACKOtq5IS2"
    },
    {
      "cell_type": "code",
      "execution_count": null,
      "id": "aaf8dead",
      "metadata": {
        "id": "aaf8dead"
      },
      "outputs": [],
      "source": [
        "\n",
        "def sumOfMult(m: int):\n",
        "    sums = [0] * (10**7)\n",
        "    ans = [-1] * (m+1)\n",
        "    for i in range(1, m + 1):\n",
        "        j = i\n",
        "        for j in range(i, m + 1, i):\n",
        "            sums[j] += i\n",
        " \n",
        "            j += i\n",
        "        if sums[i] <= m:\n",
        "            if ans[sums[i]] == -1:\n",
        "                ans[sums[i]] = i\n",
        "\n",
        "    return ans\n",
        "\n",
        "def solve(ins):\n",
        "  \n",
        "    m = max(ins)\n",
        "    ans = sumOfMult(m)\n",
        "    \n",
        "    for i in ins:\n",
        "        print(ans[i])"
      ]
    },
    {
      "cell_type": "code",
      "execution_count": null,
      "id": "3990a55a",
      "metadata": {
        "colab": {
          "base_uri": "https://localhost:8080/"
        },
        "id": "3990a55a",
        "outputId": "f1aede23-1319-4c3e-b21a-6f70542ebd62"
      },
      "outputs": [
        {
          "output_type": "execute_result",
          "data": {
            "text/plain": [
              "[-1,\n",
              " 1,\n",
              " -1,\n",
              " 2,\n",
              " 3,\n",
              " -1,\n",
              " 5,\n",
              " 4,\n",
              " 7,\n",
              " -1,\n",
              " -1,\n",
              " -1,\n",
              " 6,\n",
              " 9,\n",
              " 13,\n",
              " 8,\n",
              " -1,\n",
              " -1,\n",
              " 10,\n",
              " -1,\n",
              " 19,\n",
              " -1,\n",
              " -1,\n",
              " -1,\n",
              " 14,\n",
              " -1,\n",
              " -1,\n",
              " -1,\n",
              " 12,\n",
              " -1,\n",
              " 29,\n",
              " 16,\n",
              " 21,\n",
              " -1,\n",
              " -1,\n",
              " -1,\n",
              " 22,\n",
              " -1,\n",
              " 37,\n",
              " 18]"
            ]
          },
          "metadata": {},
          "execution_count": 26
        }
      ],
      "source": [
        "sumOfMult(39)"
      ]
    },
    {
      "cell_type": "code",
      "execution_count": null,
      "id": "e7dd19dd",
      "metadata": {
        "id": "e7dd19dd"
      },
      "outputs": [],
      "source": [
        "import time\n",
        "import matplotlib.pyplot as plt\n",
        "times = []\n",
        "for i in range(1,2000):\n",
        "  time1 = time.time()\n",
        "  sumOfMult(i)\n",
        "  time1 = time.time() - time1\n",
        "  times.append(time1)"
      ]
    },
    {
      "cell_type": "code",
      "source": [
        "x = lambda x: x*100\n",
        "plt.plot(list(map(x,times)))"
      ],
      "metadata": {
        "colab": {
          "base_uri": "https://localhost:8080/",
          "height": 282
        },
        "id": "903THSEBGY0h",
        "outputId": "2f4d6be0-7289-4583-f3cd-649ce91001d7"
      },
      "id": "903THSEBGY0h",
      "execution_count": null,
      "outputs": [
        {
          "output_type": "execute_result",
          "data": {
            "text/plain": [
              "[<matplotlib.lines.Line2D at 0x7fe00e9e4ad0>]"
            ]
          },
          "metadata": {},
          "execution_count": 32
        },
        {
          "output_type": "display_data",
          "data": {
            "image/png": "[encoded data removed]",
            "text/plain": [
              "<Figure size 432x288 with 1 Axes>"
            ]
          },
          "metadata": {
            "needs_background": "light"
          }
        }
      ]
    },
    {
      "cell_type": "code",
      "source": [
        ""
      ],
      "metadata": {
        "id": "9xIha707GeIQ"
      },
      "id": "9xIha707GeIQ",
      "execution_count": null,
      "outputs": []
    },
    {
      "cell_type": "markdown",
      "source": [
        "F(n) → sumOfMults(m) \n",
        "\n",
        "S(A) → solve(ins)\n",
        "\n",
        "\n",
        "---\n",
        "\n",
        "\n",
        "$$ T(S(A)) = n + T(F(n)) + \\sum_{i=0}^{n-1}n[i] → 2n + T(F(n))$$\n",
        "\n",
        "$$ T(F(n)) = ∑_{i=1}^{n} ∑_{k|i}^{log_{i}(n)}2 + 4 $$\n",
        "\n",
        "$$ T(S(A)) = 2n + (∑_{i=1}^{n} ∑_{k|i}^{log_{i}(n)}2 + 4)$$\n",
        "\n",
        "$$ T(S(A)) = 2n + (n · 2logn + 4)$$\n",
        "\n",
        "$$ T(S(A)) = 2n + 2n·logn + 4$$\n",
        "$$ \\text{Suppress lower order terms and constants}$$\n",
        "\n",
        "$$ T(S(A)) = n·logn$$\n",
        "\n",
        "\n",
        "\n"
      ],
      "metadata": {
        "id": "r6LbjLsSJAcB"
      },
      "id": "r6LbjLsSJAcB"
    },
    {
      "cell_type": "code",
      "source": [
        ""
      ],
      "metadata": {
        "id": "aPuFWdE8OJn5"
      },
      "id": "aPuFWdE8OJn5",
      "execution_count": null,
      "outputs": []
    }
  ],
  "metadata": {
    "kernelspec": {
      "display_name": "Python 3 (ipykernel)",
      "language": "python",
      "name": "python3"
    },
    "language_info": {
      "codemirror_mode": {
        "name": "ipython",
        "version": 3
      },
      "file_extension": ".py",
      "mimetype": "text/x-python",
      "name": "python",
      "nbconvert_exporter": "python",
      "pygments_lexer": "ipython3",
      "version": "3.9.7"
    },
    "colab": {
      "name": "short_Task.ipynb",
      "provenance": [],
      "collapsed_sections": []
    }
  },
  "nbformat": 4,
  "nbformat_minor": 5
}